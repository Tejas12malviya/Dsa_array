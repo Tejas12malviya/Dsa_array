{
 "cells": [
  {
   "cell_type": "markdown",
   "id": "728ac444-ae61-4d52-bda4-42ae130e5429",
   "metadata": {},
   "source": [
    "1. Given an arary with some integer type values. Write a python script to sort an array values?\n"
   ]
  },
  {
   "cell_type": "code",
   "execution_count": 1,
   "id": "89a63911-912b-44b4-91db-72a8a9ec35d1",
   "metadata": {},
   "outputs": [
    {
     "data": {
      "text/plain": [
       "array([ 6,  7, 12, 21, 45, 49, 98])"
      ]
     },
     "execution_count": 1,
     "metadata": {},
     "output_type": "execute_result"
    }
   ],
   "source": [
    "import numpy as np\n",
    "a1=np.array([45,12,6,7,49,98,21])\n",
    "a1.sort()\n",
    "a1            "
   ]
  },
  {
   "cell_type": "markdown",
   "id": "1871e908-3056-453a-9f92-0feff552712f",
   "metadata": {},
   "source": [
    "2. Write a Python script to calculate average of element of a list.\n",
    "   "
   ]
  },
  {
   "cell_type": "code",
   "execution_count": 15,
   "id": "a7f8a8ae-1a2f-47b0-96f2-601ada58ef59",
   "metadata": {},
   "outputs": [
    {
     "name": "stdout",
     "output_type": "stream",
     "text": [
      "33.875\n"
     ]
    }
   ],
   "source": [
    "l1=[52,1,4,78,9,63,45,19]\n",
    "avg=sum(l1)/len(l1)\n",
    "print(avg)"
   ]
  },
  {
   "cell_type": "markdown",
   "id": "eff61e52-b72a-4ad9-b069-43ed751ecd8b",
   "metadata": {},
   "source": [
    "3. Find weather the number is prime or not.\n",
    "   "
   ]
  },
  {
   "cell_type": "code",
   "execution_count": 19,
   "id": "50d2f76c-685c-45a4-8c37-a705e3ac2ca4",
   "metadata": {},
   "outputs": [
    {
     "name": "stdout",
     "output_type": "stream",
     "text": [
      "It is a prime number.\n"
     ]
    }
   ],
   "source": [
    "n=107\n",
    "\n",
    "for i in range (2,n):\n",
    "    if n%i==0:\n",
    "        print (\"It is not a prime no.\")\n",
    "        break\n",
    "else :\n",
    "    print ('It is a prime number.')"
   ]
  },
  {
   "cell_type": "markdown",
   "id": "8c38f3d3-9036-470d-b598-8da87a660b2d",
   "metadata": {},
   "source": [
    "4. Write a python script to create a list of first N prime numbers."
   ]
  },
  {
   "cell_type": "code",
   "execution_count": 38,
   "id": "bfa6d6e9-bb9c-4f6f-bff1-f5d897d34ad2",
   "metadata": {},
   "outputs": [
    {
     "name": "stdout",
     "output_type": "stream",
     "text": [
      "[2, 3, 5, 7, 11, 13, 17, 19, 23, 29, 31, 37, 41, 43, 47, 53, 59, 61, 67, 71, 73, 79, 83, 89, 97, 101]\n"
     ]
    }
   ],
   "source": [
    "N=101\n",
    "mylist=[]\n",
    "for i in range (2,N+1):\n",
    "    n=i\n",
    "    for j in range(2,n):\n",
    "        if n%j==0:\n",
    "            break\n",
    "    else :\n",
    "        mylist.append(i)\n",
    "        \n",
    "print (mylist)"
   ]
  },
  {
   "cell_type": "markdown",
   "id": "51a744ba-4364-4a7d-84f6-dcc842feef8b",
   "metadata": {},
   "source": [
    "FABONACCI SERIES"
   ]
  },
  {
   "cell_type": "code",
   "execution_count": 52,
   "id": "1fd833c8-2f38-49a5-b3f2-0bb02aa5dd79",
   "metadata": {},
   "outputs": [
    {
     "name": "stdout",
     "output_type": "stream",
     "text": [
      "[0, 1, 1, 2, 3, 5, 8, 13, 21, 34, 55, 89, 144, 233, 377, 610, 987, 1597, 2584, 4181]\n"
     ]
    }
   ],
   "source": [
    "n=20\n",
    "\n",
    "fablist=[0,1]\n",
    "\n",
    "a=0\n",
    "b=1\n",
    "# print (a)\n",
    "# print (b)\n",
    "for i in range(2,n):\n",
    "    c=a+b\n",
    "    a=b\n",
    "    b=c\n",
    "    fablist.append(c)\n",
    "\n",
    "print (fablist)\n"
   ]
  },
  {
   "cell_type": "code",
   "execution_count": null,
   "id": "1c55920c-be02-4d1e-bc26-47dd92d67ed5",
   "metadata": {},
   "outputs": [],
   "source": []
  }
 ],
 "metadata": {
  "kernelspec": {
   "display_name": "Python 3 (ipykernel)",
   "language": "python",
   "name": "python3"
  },
  "language_info": {
   "codemirror_mode": {
    "name": "ipython",
    "version": 3
   },
   "file_extension": ".py",
   "mimetype": "text/x-python",
   "name": "python",
   "nbconvert_exporter": "python",
   "pygments_lexer": "ipython3",
   "version": "3.12.1"
  }
 },
 "nbformat": 4,
 "nbformat_minor": 5
}
